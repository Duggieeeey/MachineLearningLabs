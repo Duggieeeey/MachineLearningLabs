{
 "cells": [
  {
   "cell_type": "code",
   "execution_count": 1,
   "metadata": {
    "colab": {
     "base_uri": "https://localhost:8080/"
    },
    "id": "0PrO3EUxIVRn",
    "outputId": "62b8863d-5b03-4be8-a87d-97f82c1153f3"
   },
   "outputs": [
    {
     "name": "stdout",
     "output_type": "stream",
     "text": [
      "Downloading data from https://storage.googleapis.com/tensorflow/tf-keras-datasets/mnist.npz\n",
      "11490434/11490434 [==============================] - 1s 0us/step\n"
     ]
    }
   ],
   "source": [
    "import pandas as pd\n",
    "import numpy as np\n",
    "import matplotlib.pyplot as plt\n",
    "import keras\n",
    "from keras.datasets import mnist\n",
    "\n",
    "np.random.seed(2023)\n",
    "\n",
    "# Loading the dataset\n",
    "(x_train, y_train), (x_test, y_test) = mnist.load_data()\n"
   ]
  },
  {
   "cell_type": "code",
   "execution_count": 2,
   "metadata": {
    "colab": {
     "base_uri": "https://localhost:8080/",
     "height": 237
    },
    "id": "65B9rQHOIaCR",
    "outputId": "fe55f7e8-9963-4114-c1fe-563e9f765d0f"
   },
   "outputs": [
    {
     "data": {
      "image/png": "[encoded data removed]",
      "text/plain": [
       "<Figure size 1000x300 with 5 Axes>"
      ]
     },
     "metadata": {},
     "output_type": "display_data"
    }
   ],
   "source": [
    "# Plotting the first 5 images from the training set\n",
    "fig, axes = plt.subplots(nrows=1, ncols=5, figsize=(10, 3))\n",
    "for i, ax in enumerate(axes):\n",
    "    ax.imshow(x_train[i], cmap='gray')\n",
    "    ax.set_title(f'Label: {y_train[i]}')\n",
    "plt.tight_layout()\n",
    "plt.show()"
   ]
  },
  {
   "cell_type": "code",
   "execution_count": 3,
   "metadata": {
    "id": "d2D1_kmO0HtG"
   },
   "outputs": [],
   "source": [
    "# Flattening the input images and normalize pixel values\n",
    "x_train = x_train.reshape(-1, 28*28).astype('float32') / 255.0\n",
    "x_test = x_test.reshape(-1, 28*28).astype('float32') / 255.0\n",
    "\n",
    "# Converting the labels to categorical variables\n",
    "y_train = keras.utils.to_categorical(y_train)\n",
    "y_test = keras.utils.to_categorical(y_test)"
   ]
  },
  {
   "cell_type": "code",
   "execution_count": 5,
   "metadata": {
    "colab": {
     "base_uri": "https://localhost:8080/"
    },
    "id": "DMOj8RCe0QfB",
    "outputId": "5b1aa175-efff-4ce6-9e5f-63cfe92b9877"
   },
   "outputs": [
    {
     "name": "stdout",
     "output_type": "stream",
     "text": [
      "Training Random Forest...\n",
      "Random Forest accuracy: 0.969\n",
      "Random Forest confusion matrix:\n",
      "[[ 971    0    0    0    0    1    3    1    4    0]\n",
      " [   0 1122    2    3    1    2    3    1    1    0]\n",
      " [   6    0  999    5    3    0    3   10    6    0]\n",
      " [   1    0   11  971    0    7    0    9    7    4]\n",
      " [   1    0    1    0  954    0    6    0    2   18]\n",
      " [   3    0    1   14    5  856    4    2    4    3]\n",
      " [   7    3    0    0    4    2  938    0    4    0]\n",
      " [   1    3   19    1    1    0    0  989    2   12]\n",
      " [   4    0    4    5    6    5    3    4  935    8]\n",
      " [  10    5    2   11   11    5    1    4    5  955]]\n",
      "\n",
      "Training SVM...\n",
      "SVM accuracy: 0.9792\n",
      "SVM confusion matrix:\n",
      "[[ 973    0    1    0    0    2    1    1    2    0]\n",
      " [   0 1126    3    1    0    1    1    1    2    0]\n",
      " [   6    1 1006    2    1    0    2    7    6    1]\n",
      " [   0    0    2  995    0    2    0    5    5    1]\n",
      " [   0    0    5    0  961    0    3    0    2   11]\n",
      " [   2    0    0    9    0  871    4    1    4    1]\n",
      " [   6    2    0    0    2    3  944    0    1    0]\n",
      " [   0    6   11    1    1    0    0  996    2   11]\n",
      " [   3    0    2    6    3    2    2    3  950    3]\n",
      " [   3    4    1    7   10    2    1    7    4  970]]\n",
      "\n"
     ]
    }
   ],
   "source": [
    "from sklearn.ensemble import RandomForestClassifier\n",
    "from sklearn.svm import SVC\n",
    "from sklearn.metrics import accuracy_score, confusion_matrix\n",
    "# Defining the models to be trained\n",
    "models = [\n",
    "    ('Random Forest', RandomForestClassifier(n_estimators=100)),\n",
    "    ('SVM', SVC())\n",
    "]\n",
    "\n",
    "# Training and evaluate the models\n",
    "for name, model in models:\n",
    "    print(f'Training {name}...')\n",
    "    model.fit(x_train, np.argmax(y_train, axis=1))\n",
    "    y_pred = model.predict(x_test)\n",
    "    acc = accuracy_score(np.argmax(y_test, axis=1), y_pred)\n",
    "    cm = confusion_matrix(np.argmax(y_test, axis=1), y_pred)\n",
    "    print(f'{name} accuracy: {acc}')\n",
    "    print(f'{name} confusion matrix:\\n{cm}\\n')"
   ]
  },
  {
   "cell_type": "markdown",
   "metadata": {
    "id": "HUt95nzq3bwT"
   },
   "source": [
    "SVM model has given the highest accuracy above 96%."
   ]
  }
 ],
 "metadata": {
  "colab": {
   "provenance": []
  },
  "kernelspec": {
   "display_name": "Python 3 (ipykernel)",
   "language": "python",
   "name": "python3"
  },
  "language_info": {
   "codemirror_mode": {
    "name": "ipython",
    "version": 3
   },
   "file_extension": ".py",
   "mimetype": "text/x-python",
   "name": "python",
   "nbconvert_exporter": "python",
   "pygments_lexer": "ipython3",
   "version": "3.9.12"
  }
 },
 "nbformat": 4,
 "nbformat_minor": 1
}
